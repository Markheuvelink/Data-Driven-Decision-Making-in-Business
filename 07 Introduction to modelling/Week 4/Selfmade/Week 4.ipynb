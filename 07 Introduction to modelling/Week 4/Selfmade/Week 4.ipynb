{
 "cells": [
  {
   "cell_type": "markdown",
   "metadata": {},
   "source": [
    "# Week 4"
   ]
  },
  {
   "cell_type": "markdown",
   "metadata": {},
   "source": [
    "## Exercise 1"
   ]
  },
  {
   "cell_type": "code",
   "execution_count": 21,
   "metadata": {},
   "outputs": [],
   "source": [
    "import pandas as pd\n",
    "from sklearn.model_selection import RepeatedKFold\n",
    "from sklearn.linear_model import LinearRegression\n",
    "from sklearn.model_selection import cross_val_score\n",
    "from numpy import mean\n",
    "from numpy import absolute\n",
    "from sklearn.preprocessing import MinMaxScaler\n",
    "from sklearn.linear_model import Ridge\n",
    "from sklearn.linear_model import Lasso"
   ]
  },
  {
   "cell_type": "code",
   "execution_count": 17,
   "metadata": {},
   "outputs": [],
   "source": [
    "#import dataset\n",
    "df = pd.read_csv('insurance - Copy (1).csv') #import the file. If the file is not in the same location as this script you need to write out the whole path\n",
    "df.head() #Check the first 5 entries\n",
    "\n",
    "\n",
    "#Prepare the data\n",
    "df = df.dropna() #remove missings\n",
    "y = df['charges'] #select Target\n",
    "X = df.drop('charges',axis=1) #Select features\n",
    "X = pd.get_dummies(X, drop_first=True) #Turn sex, smoker, and region into dummy variables\n"
   ]
  },
  {
   "cell_type": "code",
   "execution_count": 11,
   "metadata": {},
   "outputs": [
    {
     "name": "stdout",
     "output_type": "stream",
     "text": [
      "the average prediction error with full data is: 4213\n"
     ]
    }
   ],
   "source": [
    "#Prediction with all features\n",
    "#define the cross-validation\n",
    "cv = RepeatedKFold(n_splits=5, #splits the data into 5 folds\n",
    "                   random_state=420) #adding a number here ensures it will be the same each time\n",
    "\n",
    "#predict with linear regression\n",
    "lm = LinearRegression()\n",
    "lmscores = cross_val_score(lm, X, y, #these define the type of model, features, and target\n",
    "                           scoring='neg_mean_absolute_error', #test using mean absolute deviation\n",
    "                           cv=cv) #this loads the cross validation we wrote above\n",
    "\n",
    "\n",
    "lmMAE = mean(absolute(lmscores)) #Calculate the overall mean absolute error\n",
    "print('the average prediction error with full data is: %.0f' % lmMAE) #Print the result"
   ]
  },
  {
   "cell_type": "code",
   "execution_count": 12,
   "metadata": {},
   "outputs": [
    {
     "name": "stdout",
     "output_type": "stream",
     "text": [
      "the average prediction error will cut data is: 4209\n"
     ]
    }
   ],
   "source": [
    "#In class exercise 1\n",
    "\n",
    "#Model without the sex variable\n",
    "Xnosex = X.drop('sex_male',axis=1) #drop the sex variable\n",
    "lmscoresnc = cross_val_score(lm, Xnosex, y, #these define the type of model, features, and target\n",
    "                           scoring='neg_mean_absolute_error', #test using mean absolute deviation\n",
    "                           cv=cv) #this loads the cross validation we wrote above\n",
    "\n",
    "#Calculate the Mean Average Error\n",
    "lmMAEnc = mean(absolute(lmscoresnc)) #Calculate the overall mean absolute error\n",
    "print('the average prediction error will cut data is: %.0f' % lmMAEnc) #Print the result"
   ]
  },
  {
   "cell_type": "markdown",
   "metadata": {},
   "source": [
    "## Exersice 2"
   ]
  },
  {
   "cell_type": "code",
   "execution_count": 19,
   "metadata": {},
   "outputs": [],
   "source": [
    "columns =  X.columns\n",
    "scaler = MinMaxScaler()\n",
    "X = scaler.fit_transform(X)\n",
    "X = pd.DataFrame(x, columns=columns)"
   ]
  },
  {
   "cell_type": "code",
   "execution_count": 27,
   "metadata": {},
   "outputs": [
    {
     "name": "stdout",
     "output_type": "stream",
     "text": [
      "the average prediction error with linear regression was: 4213\n",
      "the average prediction error with lasso is: 4206\n",
      "the average prediction error with ridge is: 4194\n"
     ]
    }
   ],
   "source": [
    "#Define the models and alpha\n",
    "LassoModel = Lasso(alpha=5)\n",
    "RidgeModel = Ridge(alpha=5)\n",
    "\n",
    "#Run the cross fold validation again (same as earlier)\n",
    "scoreslasso = cross_val_score(LassoModel, X, y, scoring='neg_mean_absolute_error', cv=cv) \n",
    "scoresridge = cross_val_score(RidgeModel, X, y, scoring='neg_mean_absolute_error', cv=cv) \n",
    "\n",
    "#Evaluate the model\n",
    "print('the average prediction error with linear regression was: 4213')\n",
    "lassoMAE = mean(absolute(scoreslasso)) #Calculate the overall mean absolute error\n",
    "print('the average prediction error with lasso is: %.0f' % lassoMAE) #Print the result\n",
    "ridgeMAE = mean(absolute(scoresridge)) #Calculate the overall mean absolute error\n",
    "print('the average prediction error with ridge is: %.0f' % ridgeMAE) #Print the result"
   ]
  },
  {
   "cell_type": "code",
   "execution_count": 24,
   "metadata": {},
   "outputs": [
    {
     "name": "stdout",
     "output_type": "stream",
     "text": [
      "the average prediction error with linear regression was: 4213\n",
      "the average prediction error with lasso is: 4200\n",
      "the average prediction error with ridge is: 4223\n"
     ]
    }
   ],
   "source": [
    "#Define the models and alpha\n",
    "LassoModel = Lasso(alpha=10)\n",
    "RidgeModel = Ridge(alpha=10)\n",
    "\n",
    "#Run the cross fold validation again (same as earlier)\n",
    "scoreslasso = cross_val_score(LassoModel, X, y, scoring='neg_mean_absolute_error', cv=cv) \n",
    "scoresridge = cross_val_score(RidgeModel, X, y, scoring='neg_mean_absolute_error', cv=cv) \n",
    "\n",
    "#Evaluate the model\n",
    "print('the average prediction error with linear regression was: 4213')\n",
    "lassoMAE = mean(absolute(scoreslasso)) #Calculate the overall mean absolute error\n",
    "print('the average prediction error with lasso is: %.0f' % lassoMAE) #Print the result\n",
    "ridgeMAE = mean(absolute(scoresridge)) #Calculate the overall mean absolute error\n",
    "print('the average prediction error with ridge is: %.0f' % ridgeMAE) #Print the result"
   ]
  },
  {
   "cell_type": "code",
   "execution_count": 25,
   "metadata": {},
   "outputs": [
    {
     "name": "stdout",
     "output_type": "stream",
     "text": [
      "the average prediction error with linear regression was: 4213\n",
      "the average prediction error with lasso is: 4159\n",
      "the average prediction error with ridge is: 5432\n"
     ]
    }
   ],
   "source": [
    "#Define the models and alpha\n",
    "LassoModel = Lasso(alpha=100)\n",
    "RidgeModel = Ridge(alpha=100)\n",
    "\n",
    "#Run the cross fold validation again (same as earlier)\n",
    "scoreslasso = cross_val_score(LassoModel, X, y, scoring='neg_mean_absolute_error', cv=cv) \n",
    "scoresridge = cross_val_score(RidgeModel, X, y, scoring='neg_mean_absolute_error', cv=cv) \n",
    "\n",
    "#Evaluate the model\n",
    "print('the average prediction error with linear regression was: 4213')\n",
    "lassoMAE = mean(absolute(scoreslasso)) #Calculate the overall mean absolute error\n",
    "print('the average prediction error with lasso is: %.0f' % lassoMAE) #Print the result\n",
    "ridgeMAE = mean(absolute(scoresridge)) #Calculate the overall mean absolute error\n",
    "print('the average prediction error with ridge is: %.0f' % ridgeMAE) #Print the result"
   ]
  }
 ],
 "metadata": {
  "kernelspec": {
   "display_name": "Python 3",
   "language": "python",
   "name": "python3"
  },
  "language_info": {
   "codemirror_mode": {
    "name": "ipython",
    "version": 3
   },
   "file_extension": ".py",
   "mimetype": "text/x-python",
   "name": "python",
   "nbconvert_exporter": "python",
   "pygments_lexer": "ipython3",
   "version": "3.12.9"
  }
 },
 "nbformat": 4,
 "nbformat_minor": 2
}
