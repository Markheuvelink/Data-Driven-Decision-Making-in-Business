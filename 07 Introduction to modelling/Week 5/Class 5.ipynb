{
 "cells": [
  {
   "cell_type": "markdown",
   "metadata": {},
   "source": [
    "# **Week 5**"
   ]
  },
  {
   "cell_type": "markdown",
   "metadata": {},
   "source": [
    "## Imports"
   ]
  },
  {
   "cell_type": "code",
   "execution_count": null,
   "metadata": {},
   "outputs": [
    {
     "ename": "ModuleNotFoundError",
     "evalue": "No module named 'tensorflow'",
     "output_type": "error",
     "traceback": [
      "\u001b[1;31m---------------------------------------------------------------------------\u001b[0m",
      "\u001b[1;31mModuleNotFoundError\u001b[0m                       Traceback (most recent call last)",
      "Cell \u001b[1;32mIn[4], line 12\u001b[0m\n\u001b[0;32m     10\u001b[0m \u001b[38;5;28;01mfrom\u001b[39;00m \u001b[38;5;21;01msklearn\u001b[39;00m\u001b[38;5;21;01m.\u001b[39;00m\u001b[38;5;21;01mpreprocessing\u001b[39;00m \u001b[38;5;28;01mimport\u001b[39;00m MinMaxScaler\n\u001b[0;32m     11\u001b[0m \u001b[38;5;28;01mfrom\u001b[39;00m \u001b[38;5;21;01msklearn\u001b[39;00m\u001b[38;5;21;01m.\u001b[39;00m\u001b[38;5;21;01mmodel_selection\u001b[39;00m \u001b[38;5;28;01mimport\u001b[39;00m GridSearchCV\n\u001b[1;32m---> 12\u001b[0m \u001b[38;5;28;01mimport\u001b[39;00m \u001b[38;5;21;01mtensorflow\u001b[39;00m \u001b[38;5;28;01mas\u001b[39;00m \u001b[38;5;21;01mtf\u001b[39;00m\n\u001b[0;32m     13\u001b[0m \u001b[38;5;28;01mfrom\u001b[39;00m \u001b[38;5;21;01mscikeras\u001b[39;00m\u001b[38;5;21;01m.\u001b[39;00m\u001b[38;5;21;01mwrappers\u001b[39;00m \u001b[38;5;28;01mimport\u001b[39;00m KerasRegressor\n\u001b[0;32m     14\u001b[0m \u001b[38;5;28;01mfrom\u001b[39;00m \u001b[38;5;21;01msklearn\u001b[39;00m\u001b[38;5;21;01m.\u001b[39;00m\u001b[38;5;21;01mmodel_selection\u001b[39;00m \u001b[38;5;28;01mimport\u001b[39;00m RandomizedSearchCV\n",
      "\u001b[1;31mModuleNotFoundError\u001b[0m: No module named 'tensorflow'"
     ]
    }
   ],
   "source": [
    "#import modules and load the data\n",
    "import pandas as pd\n",
    "import numpy as np\n",
    "from sklearn.model_selection import RepeatedKFold\n",
    "from sklearn.model_selection import cross_val_score\n",
    "from numpy import mean\n",
    "from numpy import absolute\n",
    "from sklearn.linear_model import Lasso\n",
    "from sklearn.linear_model import Ridge\n",
    "from sklearn.preprocessing import MinMaxScaler\n",
    "from sklearn.model_selection import GridSearchCV\n",
    "#import tensorflow as tf\n",
    "#from scikeras.wrappers import KerasRegressor\n",
    "from sklearn.model_selection import RandomizedSearchCV\n",
    "\n",
    "df = pd.read_csv(\"insurance - Copy (2).csv\")\n",
    "df.head()"
   ]
  },
  {
   "cell_type": "markdown",
   "metadata": {},
   "source": [
    "## Exercise 1"
   ]
  },
  {
   "cell_type": "markdown",
   "metadata": {},
   "source": [
    "### Test"
   ]
  },
  {
   "cell_type": "code",
   "execution_count": 6,
   "metadata": {},
   "outputs": [
    {
     "ename": "NameError",
     "evalue": "name 'df' is not defined",
     "output_type": "error",
     "traceback": [
      "\u001b[1;31m---------------------------------------------------------------------------\u001b[0m",
      "\u001b[1;31mNameError\u001b[0m                                 Traceback (most recent call last)",
      "Cell \u001b[1;32mIn[6], line 2\u001b[0m\n\u001b[0;32m      1\u001b[0m \u001b[38;5;66;03m# Define the feature matrix X and target vector y\u001b[39;00m\n\u001b[1;32m----> 2\u001b[0m X \u001b[38;5;241m=\u001b[39m df\u001b[38;5;241m.\u001b[39mdrop(columns\u001b[38;5;241m=\u001b[39m[\u001b[38;5;124m'\u001b[39m\u001b[38;5;124mcharges\u001b[39m\u001b[38;5;124m'\u001b[39m])  \u001b[38;5;66;03m# replace 'target_column' with the actual target column name\u001b[39;00m\n\u001b[0;32m      3\u001b[0m y \u001b[38;5;241m=\u001b[39m df[\u001b[38;5;124m'\u001b[39m\u001b[38;5;124mcharges\u001b[39m\u001b[38;5;124m'\u001b[39m]  \u001b[38;5;66;03m# replace 'target_column' with the actual target column name\u001b[39;00m\n\u001b[0;32m      5\u001b[0m \u001b[38;5;66;03m# Define the range of alpha values\u001b[39;00m\n",
      "\u001b[1;31mNameError\u001b[0m: name 'df' is not defined"
     ]
    }
   ],
   "source": [
    "# Define the feature matrix X and target vector y\n",
    "X = df.drop(columns=['charges'])  # replace 'target_column' with the actual target column name\n",
    "y = df['charges']  # replace 'target_column' with the actual target column name\n",
    "\n",
    "# Define the range of alpha values\n",
    "alpha_range = np.arange(start=1, stop=100, step=1)\n",
    "\n",
    "# Define the cross-validation strategy\n",
    "cv = RepeatedKFold(n_splits=5)\n",
    "\n",
    "# Define the parameter grid\n",
    "param_grid = {'alpha': alpha_range}\n",
    "\n",
    "# Define the Ridge regression model\n",
    "RidgeModel = Ridge()\n",
    "\n",
    "# Create the grid search\n",
    "RidgeM = GridSearchCV(RidgeModel, param_grid=param_grid, scoring='neg_mean_absolute_error', cv=cv)\n",
    "\n",
    "# Fit the grid search model\n",
    "RidgeM.fit(X, y)\n",
    "\n",
    "# Print the best alpha value\n",
    "print(\"Best alpha: \", RidgeM.best_params_['alpha'])"
   ]
  },
  {
   "cell_type": "code",
   "execution_count": 5,
   "metadata": {},
   "outputs": [
    {
     "ename": "NameError",
     "evalue": "name 'X' is not defined",
     "output_type": "error",
     "traceback": [
      "\u001b[1;31m---------------------------------------------------------------------------\u001b[0m",
      "\u001b[1;31mNameError\u001b[0m                                 Traceback (most recent call last)",
      "Cell \u001b[1;32mIn[5], line 16\u001b[0m\n\u001b[0;32m     10\u001b[0m \u001b[38;5;66;03m#create the grid search\u001b[39;00m\n\u001b[0;32m     11\u001b[0m LassoM \u001b[38;5;241m=\u001b[39m GridSearchCV(LassoModel, \u001b[38;5;66;03m#the Lasso model we defined above\u001b[39;00m\n\u001b[0;32m     12\u001b[0m                         param_grid\u001b[38;5;241m=\u001b[39mparam, \u001b[38;5;66;03m#the alpha values we defined above\u001b[39;00m\n\u001b[0;32m     13\u001b[0m                         scoring\u001b[38;5;241m=\u001b[39m\u001b[38;5;124m'\u001b[39m\u001b[38;5;124mneg_mean_absolute_error\u001b[39m\u001b[38;5;124m'\u001b[39m, \u001b[38;5;66;03m#use MAE as measure of fit\u001b[39;00m\n\u001b[0;32m     14\u001b[0m                         cv\u001b[38;5;241m=\u001b[39mcv) \u001b[38;5;66;03m#the cross validation we defined above\u001b[39;00m\n\u001b[1;32m---> 16\u001b[0m LassoM\u001b[38;5;241m.\u001b[39mfit(X, y) \u001b[38;5;66;03m# Fit the random search model\u001b[39;00m\n\u001b[0;32m     18\u001b[0m \u001b[38;5;28mprint\u001b[39m(\u001b[38;5;124m\"\u001b[39m\u001b[38;5;124mBest alpha: \u001b[39m\u001b[38;5;124m\"\u001b[39m, LassoM\u001b[38;5;241m.\u001b[39mbest_params_[\u001b[38;5;124m'\u001b[39m\u001b[38;5;124malpha\u001b[39m\u001b[38;5;124m'\u001b[39m])\n",
      "\u001b[1;31mNameError\u001b[0m: name 'X' is not defined"
     ]
    }
   ],
   "source": [
    "#grid search\n",
    "\n",
    "alpha_range = np.arange(start=1, stop=100, step=1) #define a range of 100 alpha values\n",
    "\n",
    "#define the aspects of the grid search\n",
    "cv = RepeatedKFold(n_splits=5) #define the cross validation\n",
    "param = {'alpha': alpha_range} #create a dictionary that contains the range of alpha values\n",
    "LassoModel = Lasso() #define the model\n",
    "\n",
    "#create the grid search\n",
    "LassoM = GridSearchCV(LassoModel, #the Lasso model we defined above\n",
    "                        param_grid=param, #the alpha values we defined above\n",
    "                        scoring='neg_mean_absolute_error', #use MAE as measure of fit\n",
    "                        cv=cv) #the cross validation we defined above\n",
    "\n",
    "LassoM.fit(X, y) # Fit the random search model\n",
    "\n",
    "print(\"Best alpha: \", LassoM.best_params_['alpha']) #print out the best parameter"
   ]
  }
 ],
 "metadata": {
  "kernelspec": {
   "display_name": "Python 3",
   "language": "python",
   "name": "python3"
  },
  "language_info": {
   "codemirror_mode": {
    "name": "ipython",
    "version": 3
   },
   "file_extension": ".py",
   "mimetype": "text/x-python",
   "name": "python",
   "nbconvert_exporter": "python",
   "pygments_lexer": "ipython3",
   "version": "3.12.9"
  }
 },
 "nbformat": 4,
 "nbformat_minor": 2
}
