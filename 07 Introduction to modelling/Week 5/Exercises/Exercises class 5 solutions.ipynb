{
 "cells": [
  {
   "cell_type": "code",
   "execution_count": 1,
   "metadata": {},
   "outputs": [
    {
     "ename": "ModuleNotFoundError",
     "evalue": "No module named 'scikeras'",
     "output_type": "error",
     "traceback": [
      "\u001b[1;31m---------------------------------------------------------------------------\u001b[0m",
      "\u001b[1;31mModuleNotFoundError\u001b[0m                       Traceback (most recent call last)",
      "Cell \u001b[1;32mIn[1], line 14\u001b[0m\n\u001b[0;32m     12\u001b[0m \u001b[38;5;28;01mfrom\u001b[39;00m \u001b[38;5;21;01msklearn\u001b[39;00m\u001b[38;5;21;01m.\u001b[39;00m\u001b[38;5;21;01mmodel_selection\u001b[39;00m \u001b[38;5;28;01mimport\u001b[39;00m GridSearchCV\n\u001b[0;32m     13\u001b[0m \u001b[38;5;28;01mimport\u001b[39;00m \u001b[38;5;21;01mtensorflow\u001b[39;00m \u001b[38;5;28;01mas\u001b[39;00m \u001b[38;5;21;01mtf\u001b[39;00m\n\u001b[1;32m---> 14\u001b[0m \u001b[38;5;28;01mfrom\u001b[39;00m \u001b[38;5;21;01mscikeras\u001b[39;00m\u001b[38;5;21;01m.\u001b[39;00m\u001b[38;5;21;01mwrappers\u001b[39;00m \u001b[38;5;28;01mimport\u001b[39;00m KerasRegressor\n\u001b[0;32m     15\u001b[0m \u001b[38;5;28;01mfrom\u001b[39;00m \u001b[38;5;21;01msklearn\u001b[39;00m\u001b[38;5;21;01m.\u001b[39;00m\u001b[38;5;21;01mmodel_selection\u001b[39;00m \u001b[38;5;28;01mimport\u001b[39;00m RandomizedSearchCV\n\u001b[0;32m     16\u001b[0m \u001b[38;5;28;01mfrom\u001b[39;00m \u001b[38;5;21;01mdatetime\u001b[39;00m \u001b[38;5;28;01mimport\u001b[39;00m date\n",
      "\u001b[1;31mModuleNotFoundError\u001b[0m: No module named 'scikeras'"
     ]
    }
   ],
   "source": [
    "#First import the relevant packages\n",
    "import pandas as pd\n",
    "import numpy as np\n",
    "from sklearn.model_selection import RepeatedKFold\n",
    "from sklearn.linear_model import LinearRegression\n",
    "from sklearn.model_selection import cross_val_score\n",
    "from numpy import mean\n",
    "from numpy import absolute\n",
    "from sklearn.preprocessing import MinMaxScaler\n",
    "from sklearn.linear_model import Lasso\n",
    "from sklearn.linear_model import Ridge\n",
    "from sklearn.model_selection import GridSearchCV\n",
    "import tensorflow as tf\n",
    "from scikeras.wrappers import KerasRegressor\n",
    "from sklearn.model_selection import RandomizedSearchCV\n",
    "from datetime import date\n",
    "\n",
    "#import dataset\n",
    "df = pd.read_csv('steam.csv') #import the file. If the file is not in the same location as this script you need to write out the whole path\n",
    "df.head() #Check the first 5 entries\n"
   ]
  },
  {
   "cell_type": "code",
   "execution_count": null,
   "metadata": {},
   "outputs": [],
   "source": [
    "#Prepare the data\n",
    "df = df.dropna() #remove missings\n",
    "\n",
    "#Create variable that changes releaseDate into days since 1-1-2024\n",
    "d0 = pd.to_datetime('2024-01-01')\n",
    "df['releaseDate'] = pd.to_datetime(df['releaseDate'],dayfirst=True)\n",
    "df['age'] = (df['releaseDate'] - d0).dt.days\n",
    "\n",
    "#select Target and features\n",
    "y = df['copiesSold'] \n",
    "X = df.drop(['copiesSold','name','releaseDate','revenue','publishers','developers','steamId'],axis=1) \n",
    "\n",
    "#create dummies and normalize data\n",
    "X = pd.get_dummies(X, drop_first=True) #create dummy variables\n",
    "columns = X.columns #create index with column names (needed for last step)\n",
    "scaler = MinMaxScaler() #initiate the scaler\n",
    "X = scaler.fit_transform(X) #scale the data\n",
    "X = pd.DataFrame(X,columns=columns) #turn back into a dataframe\n"
   ]
  },
  {
   "cell_type": "code",
   "execution_count": null,
   "metadata": {},
   "outputs": [
    {
     "name": "stdout",
     "output_type": "stream",
     "text": [
      "the average prediction error for linear regression is: 214926\n"
     ]
    }
   ],
   "source": [
    "#Prediction with linear regression\n",
    "\n",
    "#define the cross-validation\n",
    "cv = RepeatedKFold(n_splits=5, random_state=420) #splits the data into 10 folds and does the analysis 10 times\n",
    "\n",
    "#predict with linear regression\n",
    "lm = LinearRegression()\n",
    "lmpred = cross_val_score(lm, X, y, scoring='neg_mean_absolute_error', cv=cv) \n",
    "\n",
    "MAElm = mean(absolute(lmpred)) #Calculate the overall mean absolute error\n",
    "\n",
    "print('the average prediction error for linear regression is: %.0f' % MAElm) #Print the result"
   ]
  },
  {
   "cell_type": "code",
   "execution_count": null,
   "metadata": {},
   "outputs": [
    {
     "name": "stdout",
     "output_type": "stream",
     "text": [
      "Best alpha:  3301\n"
     ]
    }
   ],
   "source": [
    "#grid search with Lasso\n",
    "alpha_range = np.arange(start=1,stop=10000,step=100) #define a range of alpha values\n",
    "\n",
    "#define the aspects of the grid search\n",
    "cv = RepeatedKFold(n_splits=5) #define the cross validation\n",
    "param = {'alpha':alpha_range} #create a dictionary that contains the range of alpha values\n",
    "LassoModel = Lasso() #define the model\n",
    "\n",
    "#create the grid search\n",
    "LassoM = GridSearchCV(LassoModel, #the lasso model we defined above\n",
    "                      param_grid=param, #the alpha values we defined above\n",
    "                      scoring ='neg_mean_absolute_error', #use MAE as measure of fit\n",
    "                      cv=cv) #the cross validation we defined above\n",
    "LassoM.fit(X,y)# Fit the random search model\n",
    "print(\"Best alpha: \", LassoM.best_params_['alpha']) #print out the best parameter"
   ]
  },
  {
   "cell_type": "code",
   "execution_count": null,
   "metadata": {},
   "outputs": [
    {
     "name": "stdout",
     "output_type": "stream",
     "text": [
      "Best alpha:  27\n"
     ]
    }
   ],
   "source": [
    "alpha_range = np.arange(start=1,stop=100,step=1) #define a range of 100 alpha values\n",
    "\n",
    "#define the aspects of the grid search\n",
    "cv = RepeatedKFold(n_splits=5) #define the cross validation\n",
    "param = {'alpha':alpha_range} #create a dictionary that contains the range of alpha values\n",
    "RidgeModel = Ridge() #define the model\n",
    "\n",
    "#create the grid search\n",
    "RidgeM = GridSearchCV(RidgeModel, #the lasso model we defined above\n",
    "                      param_grid=param, #the alpha values we defined above\n",
    "                      scoring ='neg_mean_absolute_error', #use MAE as measure of fit\n",
    "                      cv=cv) #the cross validation we defined above\n",
    "RidgeM.fit(X,y)# Fit the random search model\n",
    "print(\"Best alpha: \", RidgeM.best_params_['alpha']) #print out the best parameter"
   ]
  },
  {
   "cell_type": "code",
   "execution_count": null,
   "metadata": {},
   "outputs": [
    {
     "name": "stdout",
     "output_type": "stream",
     "text": [
      "the average prediction error of linear regression was 214926\n",
      "the average prediction error with lasso is: 210943\n",
      "the average prediction error with ridge is: 213472\n"
     ]
    }
   ],
   "source": [
    "LassoModel = Lasso(alpha=3301)\n",
    "RidgeModel = Ridge(alpha=27)\n",
    "\n",
    "#Run the cross fold validation again (same as earlier)\n",
    "cv = RepeatedKFold(n_splits=5)\n",
    "scoreslasso = cross_val_score(LassoModel, X, y, scoring='neg_mean_absolute_error', cv=cv) \n",
    "scoresridge = cross_val_score(RidgeModel, X, y, scoring='neg_mean_absolute_error', cv=cv) \n",
    "\n",
    "#Evaluate the model\n",
    "print('the average prediction error of linear regression was 214926')\n",
    "lassoMAE = mean(absolute(scoreslasso)) #Calculate the overall mean absolute error\n",
    "print('the average prediction error with lasso is: %.0f' % lassoMAE) #Print the result\n",
    "ridgeMAE = mean(absolute(scoresridge)) #Calculate the overall mean absolute error\n",
    "print('the average prediction error with ridge is: %.0f' % ridgeMAE) #Print the result"
   ]
  },
  {
   "cell_type": "code",
   "execution_count": null,
   "metadata": {},
   "outputs": [
    {
     "name": "stdout",
     "output_type": "stream",
     "text": [
      "WARNING:tensorflow:5 out of the last 11 calls to <function TensorFlowTrainer.make_predict_function.<locals>.one_step_on_data_distributed at 0x000002BA7F4ADA80> triggered tf.function retracing. Tracing is expensive and the excessive number of tracings could be due to (1) creating @tf.function repeatedly in a loop, (2) passing tensors with different shapes, (3) passing Python objects instead of tensors. For (1), please define your @tf.function outside of the loop. For (2), @tf.function has reduce_retracing=True option that can avoid unnecessary retracing. For (3), please refer to https://www.tensorflow.org/guide/function#controlling_retracing and https://www.tensorflow.org/api_docs/python/tf/function for  more details.\n",
      "WARNING:tensorflow:5 out of the last 11 calls to <function TensorFlowTrainer.make_predict_function.<locals>.one_step_on_data_distributed at 0x000002BA7F4ADA80> triggered tf.function retracing. Tracing is expensive and the excessive number of tracings could be due to (1) creating @tf.function repeatedly in a loop, (2) passing tensors with different shapes, (3) passing Python objects instead of tensors. For (1), please define your @tf.function outside of the loop. For (2), @tf.function has reduce_retracing=True option that can avoid unnecessary retracing. For (3), please refer to https://www.tensorflow.org/guide/function#controlling_retracing and https://www.tensorflow.org/api_docs/python/tf/function for  more details.\n",
      "Best parameters found:  {'n_units': 32, 'n_layers': 2, 'epochs': 100, 'batch_size': 64, 'activation': 'elu'}\n"
     ]
    }
   ],
   "source": [
    "#Hyperparameter tuning (warning: takes at least 18 minutes to run)\n",
    "# Define the function to create the model\n",
    "def build_model(n_layers=3, n_units=64, activation='softplus'): #start with some inital parameters\n",
    "    nnmodel = tf.keras.models.Sequential() #define the model\n",
    "    nnmodel.add(tf.keras.layers.Input(shape=(X.shape[1],)))  # Input layer\n",
    "\n",
    "    for _ in range(n_layers): #create a for loop that goes through the number of layers, number of units, and activation types\n",
    "        nnmodel.add(tf.keras.layers.Dense(n_units, activation=activation))\n",
    "    \n",
    "    nnmodel.add(tf.keras.layers.Dense(1))  # Output layer\n",
    "    nnmodel.compile(loss='mean_absolute_error', optimizer='adam', metrics=['mae']) #compile the model and use mean absolute error as measure of fit\n",
    "    return nnmodel\n",
    "\n",
    "model = KerasRegressor(model=build_model, #for some reason you have to put the parameter distribution in here, otherwise it will give an error\n",
    "                       n_layers=[1, 2, 3, 4, 5], #Number of hidden layers\n",
    "                       n_units=[32, 64, 128, 256, 512], #Number of nodes per hidden layer\n",
    "                       activation=['relu', 'tanh', 'softplus', 'elu'], #activation function\n",
    "                       epochs=[50, 100, 150, 200], #number of epochs\n",
    "                       batch_size=[16, 32, 64], #number of batches\n",
    "                       verbose = 0) #this will shorten the output\n",
    "\n",
    "param_dist = { #overview of the parameter distribution (this is the same as above)\n",
    "    'n_layers': [1, 2, 3, 4, 5],\n",
    "    'n_units': [32, 64, 128, 256, 512],\n",
    "    'activation': ['relu', 'tanh', 'softplus', 'elu'],\n",
    "    'epochs': [50, 100, 150, 200],\n",
    "    'batch_size': [16, 32, 64]\n",
    "}\n",
    "\n",
    "random_search = RandomizedSearchCV(estimator=model, #randomly search through the grid\n",
    "                                   param_distributions=param_dist,\n",
    "                                    n_iter=10, #number of parameter combinations that are randomly chosen\n",
    "                                      cv=5, #evaluate the output using 5-fold cross validation \n",
    "                                    random_state=42) #set a random seed so that the results will be the same each time\n",
    "\n",
    "random_search.fit(X, y) #train the models\n",
    "print(\"Best parameters found: \", random_search.best_params_) #print the best parameters"
   ]
  },
  {
   "cell_type": "code",
   "execution_count": null,
   "metadata": {},
   "outputs": [
    {
     "name": "stderr",
     "output_type": "stream",
     "text": [
      "c:\\Users\\tijme\\anaconda3\\Lib\\site-packages\\scikeras\\wrappers.py:925: UserWarning: ``build_fn`` will be renamed to ``model`` in a future release, at which point use of ``build_fn`` will raise an Error instead.\n",
      "  X, y = self._initialize(X, y)\n",
      "c:\\Users\\tijme\\anaconda3\\Lib\\site-packages\\scikeras\\wrappers.py:925: UserWarning: ``build_fn`` will be renamed to ``model`` in a future release, at which point use of ``build_fn`` will raise an Error instead.\n",
      "  X, y = self._initialize(X, y)\n",
      "c:\\Users\\tijme\\anaconda3\\Lib\\site-packages\\scikeras\\wrappers.py:925: UserWarning: ``build_fn`` will be renamed to ``model`` in a future release, at which point use of ``build_fn`` will raise an Error instead.\n",
      "  X, y = self._initialize(X, y)\n",
      "c:\\Users\\tijme\\anaconda3\\Lib\\site-packages\\scikeras\\wrappers.py:925: UserWarning: ``build_fn`` will be renamed to ``model`` in a future release, at which point use of ``build_fn`` will raise an Error instead.\n",
      "  X, y = self._initialize(X, y)\n",
      "c:\\Users\\tijme\\anaconda3\\Lib\\site-packages\\scikeras\\wrappers.py:925: UserWarning: ``build_fn`` will be renamed to ``model`` in a future release, at which point use of ``build_fn`` will raise an Error instead.\n",
      "  X, y = self._initialize(X, y)\n"
     ]
    },
    {
     "name": "stdout",
     "output_type": "stream",
     "text": [
      "the average prediction error is: 136601\n"
     ]
    }
   ],
   "source": [
    "#cross validation with the best parameters\n",
    "def create_baseline():\n",
    "    # create model\n",
    "    nnmodel = tf.keras.models.Sequential([\n",
    "        tf.keras.layers.Input(shape=(X.shape[1],)),  # Input layer (the shape parts counts how many features you have)\n",
    "        tf.keras.layers.Dense(32, activation='elu'), #hidden layer\n",
    "        tf.keras.layers.Dense(32, activation='elu'), #hidden layer\n",
    "        tf.keras.layers.Dense(1)  # Output layer\n",
    "    ])\n",
    "    # Compile model\n",
    "    nnmodel.compile(loss='mean_absolute_error', optimizer='adam', metrics=['mae']) #compile the model based \n",
    "    return nnmodel\n",
    "# evaluate model  (note if you get an error, upgrade the packages! module not found keras.api_v2 error was because of tensorflow!)\n",
    "estimator = KerasRegressor(build_fn=create_baseline, epochs=100, batch_size=64,verbose=0) #you have to use the kerasRegressor wrapper for nn models\n",
    "kfold = RepeatedKFold(n_splits=5, n_repeats = 1) #I'm using just 5 splits and 1 repeat to save time, but more splits and repeats will be more accurate\n",
    "results = cross_val_score(estimator, X, y, cv=kfold,scoring='neg_mean_absolute_error') #create the results of the cross validation\n",
    "print('the average prediction error is: %.0f' % mean(absolute(results))) #print the average error"
   ]
  }
 ],
 "metadata": {
  "kernelspec": {
   "display_name": "Python 3",
   "language": "python",
   "name": "python3"
  },
  "language_info": {
   "codemirror_mode": {
    "name": "ipython",
    "version": 3
   },
   "file_extension": ".py",
   "mimetype": "text/x-python",
   "name": "python",
   "nbconvert_exporter": "python",
   "pygments_lexer": "ipython3",
   "version": "3.12.9"
  }
 },
 "nbformat": 4,
 "nbformat_minor": 2
}
